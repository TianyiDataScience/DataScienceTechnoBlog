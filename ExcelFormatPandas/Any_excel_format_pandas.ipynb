{
 "cells": [
  {
   "cell_type": "markdown",
   "metadata": {},
   "source": [
    "Blog: How to import any spreadsheet/excel formats using Pandas [CSV, XLSX, XLS, TXT...]\n",
    "\n",
    "Blogger: Data Science Practical Tech\n",
    "\n",
    "Author: Tianyi LI\n",
    "\n",
    "Blog URL: technodatascience.blogspot.com\n",
    "\n",
    "Email: tianyi.datascience@gmail.com\n",
    "\n",
    "Python version: 3.10.1  64-bit"
   ]
  },
  {
   "cell_type": "markdown",
   "metadata": {},
   "source": [
    "**Required packages:**\n",
    "\n",
    "**pandas**:  python open source data analysis and manipulation tool\n",
    "\n",
    "https://pandas.pydata.org/\n",
    "\n",
    "**xlrd**: a library for reading data and formatting information from Excel files in the historical .xls format.\n",
    "\n",
    "https://xlrd.readthedocs.io/en/latest/\n",
    "\n",
    "**openpyxl**: a Python library to read/write Excel 2010 xlsx/xlsm files. \n",
    "\n",
    "https://pypi.org/project/openpyxl/ \n",
    "\n",
    "**Pathlib** (already installed with python): It offers classes representing filesystem paths with semantics appropriate for different operating systems.\n",
    "\n",
    "https://docs.python.org/3/library/pathlib.html\n",
    "\n",
    "**csv** (already installed with python): It implements classes to read and write tabular data in CSV format. \n",
    "\n",
    "https://docs.python.org/3/library/csv.html\n",
    "\n",
    "**mypy**[optional]: It is a static type checker for Python that combine the benefits of dynamic typing and static typing. \n",
    "\n",
    "https://mypy.readthedocs.io/en/stable/getting_started.html"
   ]
  },
  {
   "cell_type": "code",
   "execution_count": 2,
   "metadata": {},
   "outputs": [],
   "source": [
    "import pandas as pd\n",
    "from pathlib import Path\n",
    "import csv"
   ]
  },
  {
   "cell_type": "markdown",
   "metadata": {},
   "source": [
    "**Tips:**\n",
    "\n",
    "If the spreadsheet and your python file are in the same folder, input 'file_path' is your spreadsheet file name, e.g. 'XXX.csv'"
   ]
  },
  {
   "cell_type": "code",
   "execution_count": 11,
   "metadata": {},
   "outputs": [],
   "source": [
    "import pandas as pd\n",
    "from pathlib import Path\n",
    "import csv\n",
    "\n",
    "def import_spreadsheet(file_path,**kwargs):\n",
    "    \"\"\"\n",
    "    import a spreadsheet/excel with any extension.\n",
    "\n",
    "    Parameters\n",
    "    ----------\n",
    "    file_path: string\n",
    "        file path of the spreadsheet/ excel file (relative or absolute).\n",
    "    **kwargs:\n",
    "        shared arguments of read_csv and read_excel \n",
    "    \n",
    "    Returns\n",
    "    -------\n",
    "    df: pandas Dataframe\n",
    "        dataframe of the spreadsheet.\n",
    "    \"\"\"\n",
    "\n",
    "    file_path = Path(file_path) \n",
    "\n",
    "    # Path.suffix return the extension of a file\n",
    "    if file_path.suffix == '.csv' or file_path.suffix == '.txt':      \n",
    "\n",
    "        # check the deliminiter\n",
    "        with open(file_path, 'r', encoding='utf8') as csvfile:\n",
    "            dialect = csv.Sniffer().sniff(csvfile.readline())\n",
    "\n",
    "        df = pd.read_csv(file_path, sep=str(dialect.delimiter),**kwargs)\n",
    "\n",
    "    elif file_path.suffix in ['.xlsx', '.xlsm', '.xltx', '.xltm']:\n",
    "        df = pd.read_excel(file_path, engine='openpyxl',**kwargs)\n",
    "\n",
    "    # be cafefull that xlrd has explicitly removed support for anything other than xls files.\n",
    "    else:\n",
    "        df = pd.read_excel(file_path,**kwargs)\n",
    "\n",
    "    return df"
   ]
  },
  {
   "cell_type": "markdown",
   "metadata": {},
   "source": [
    "Explanations:\n",
    "\n",
    "- For .csv and .txt file, the function 'read_csv()' is used here. It is worthing mentioning that we used 'csv.Sniffer()' to first obtain the separator/delimiter inside automatically. \n",
    "\n",
    "- For .xlsx / .xlsm / .xltx / .xltm file,  the function 'read_excel()' is used together with openpyxl engine.\n",
    "\n",
    "- For .xls file,  the function 'read_excel()' is used."
   ]
  },
  {
   "cell_type": "markdown",
   "metadata": {},
   "source": [
    "**Reminder:** \n",
    "\n",
    "Thanks to **kwargs arguments, we can pass extra arguments in this functions. \n",
    "\n",
    "For example, the 2 most often used arguments when importing a spreadsheet:\n",
    "\n",
    "    header : int, list of int, or None\n",
    "        Row (0-indexed) to use for the column labels of the parsed DataFrame.\n",
    "        \n",
    "    index_col : int, list of int, or None\n",
    "        Column (0-indexed) to use as the row labels of the DataFrame. \n",
    "    \n",
    "We can write in arguments when using this function:"
   ]
  },
  {
   "cell_type": "code",
   "execution_count": null,
   "metadata": {},
   "outputs": [],
   "source": [
    "# using default arguments\n",
    "df = import_spreadsheet(file_path='YourSpreadSheet.csv') \n",
    "# define arguments yourself\n",
    "df = import_spreadsheet(file_path='YourSpreadSheet.csv', header = 1, index_col=1)"
   ]
  },
  {
   "cell_type": "markdown",
   "metadata": {},
   "source": [
    "See more arguments in reading spreadsheets in :\n",
    "\n",
    "https://pandas.pydata.org/docs/reference/api/pandas.read_csv.html\n",
    "\n",
    "https://pandas.pydata.org/pandas-docs/stable/reference/api/pandas.read_excel.html\n"
   ]
  },
  {
   "cell_type": "markdown",
   "metadata": {},
   "source": [
    "**Thank you so much for reading my blog!**   If you have any thoughts or opinions on the topic, I would love to hear from you in the comments below. See you soon ! \n",
    "\n",
    "Github: https://github.com/TianyiDataScience\n",
    "\n",
    "Linkedin: https://www.linkedin.com/in/tianyi-li-v"
   ]
  },
  {
   "cell_type": "markdown",
   "metadata": {},
   "source": []
  }
 ],
 "metadata": {
  "kernelspec": {
   "display_name": "Python 3.10.1 64-bit",
   "language": "python",
   "name": "python3"
  },
  "language_info": {
   "codemirror_mode": {
    "name": "ipython",
    "version": 3
   },
   "file_extension": ".py",
   "mimetype": "text/x-python",
   "name": "python",
   "nbconvert_exporter": "python",
   "pygments_lexer": "ipython3",
   "version": "3.10.1"
  },
  "orig_nbformat": 4,
  "vscode": {
   "interpreter": {
    "hash": "aee8b7b246df8f9039afb4144a1f6fd8d2ca17a180786b69acc140d282b71a49"
   }
  }
 },
 "nbformat": 4,
 "nbformat_minor": 2
}
